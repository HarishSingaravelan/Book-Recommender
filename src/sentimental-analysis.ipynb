{
 "cells": [
  {
   "cell_type": "code",
   "execution_count": 4,
   "metadata": {},
   "outputs": [],
   "source": [
    "import pandas as pd\n",
    "\n",
    "books = pd.read_csv(\"../data/books_with_categories.csv\")"
   ]
  },
  {
   "cell_type": "code",
   "execution_count": 11,
   "metadata": {},
   "outputs": [
    {
     "name": "stderr",
     "output_type": "stream",
     "text": [
      "Device set to use cpu\n"
     ]
    },
    {
     "data": {
      "text/plain": [
       "[[{'label': 'anger', 'score': 0.0013875309377908707},\n",
       "  {'label': 'disgust', 'score': 0.0007134036859497428},\n",
       "  {'label': 'fear', 'score': 0.00039849153836257756},\n",
       "  {'label': 'joy', 'score': 0.9845667481422424},\n",
       "  {'label': 'neutral', 'score': 0.0034753058571368456},\n",
       "  {'label': 'sadness', 'score': 0.004531427752226591},\n",
       "  {'label': 'surprise', 'score': 0.0049272081814706326}]]"
      ]
     },
     "execution_count": 11,
     "metadata": {},
     "output_type": "execute_result"
    }
   ],
   "source": [
    "from transformers import pipeline\n",
    "\n",
    "classifier = pipeline(\"text-classification\", model=\"j-hartmann/emotion-english-distilroberta-base\", return_all_scores = True, device=0)\n",
    "classifier(\"I love this\")"
   ]
  },
  {
   "cell_type": "code",
   "execution_count": 6,
   "metadata": {},
   "outputs": [
    {
     "data": {
      "text/plain": [
       "'A NOVEL THAT READERS and critics have been eagerly anticipating for over a decade, Gilead is an astonishingly imagined story of remarkable lives. John Ames is a preacher, the son of a preacher and the grandson (both maternal and paternal) of preachers. It’s 1956 in Gilead, Iowa, towards the end of the Reverend Ames’s life, and he is absorbed in recording his family’s story, a legacy for the young son he will never see grow up. Haunted by his grandfather’s presence, John tells of the rift between his grandfather and his father: the elder, an angry visionary who fought for the abolitionist cause, and his son, an ardent pacifist. He is troubled, too, by his prodigal namesake, Jack (John Ames) Boughton, his best friend’s lost son who returns to Gilead searching for forgiveness and redemption. Told in John Ames’s joyous, rambling voice that finds beauty, humour and truth in the smallest of life’s details, Gilead is a song of celebration and acceptance of the best and the worst the world has to offer. At its heart is a tale of the sacred bonds between fathers and sons, pitch-perfect in style and story, set to dazzle critics and readers alike.'"
      ]
     },
     "execution_count": 6,
     "metadata": {},
     "output_type": "execute_result"
    }
   ],
   "source": [
    "books[\"description\"][0]"
   ]
  },
  {
   "cell_type": "code",
   "execution_count": 7,
   "metadata": {},
   "outputs": [
    {
     "data": {
      "text/plain": [
       "[[{'label': 'anger', 'score': 0.003935154061764479},\n",
       "  {'label': 'disgust', 'score': 0.019100721925497055},\n",
       "  {'label': 'fear', 'score': 0.6548399925231934},\n",
       "  {'label': 'joy', 'score': 0.015161462128162384},\n",
       "  {'label': 'neutral', 'score': 0.1698525995016098},\n",
       "  {'label': 'sadness', 'score': 0.11640939861536026},\n",
       "  {'label': 'surprise', 'score': 0.02070068009197712}]]"
      ]
     },
     "execution_count": 7,
     "metadata": {},
     "output_type": "execute_result"
    }
   ],
   "source": [
    "classifier(books[\"description\"][0])"
   ]
  },
  {
   "cell_type": "code",
   "execution_count": 12,
   "metadata": {},
   "outputs": [],
   "source": [
    "sentences = books[\"description\"][0].split(\".\")\n",
    "predictions = classifier(sentences)"
   ]
  },
  {
   "cell_type": "code",
   "execution_count": 13,
   "metadata": {},
   "outputs": [
    {
     "data": {
      "text/plain": [
       "'A NOVEL THAT READERS and critics have been eagerly anticipating for over a decade, Gilead is an astonishingly imagined story of remarkable lives'"
      ]
     },
     "execution_count": 13,
     "metadata": {},
     "output_type": "execute_result"
    }
   ],
   "source": [
    "sentences[0]"
   ]
  },
  {
   "cell_type": "code",
   "execution_count": 14,
   "metadata": {},
   "outputs": [
    {
     "data": {
      "text/plain": [
       "[{'label': 'anger', 'score': 0.009156374260783195},\n",
       " {'label': 'disgust', 'score': 0.002628476358950138},\n",
       " {'label': 'fear', 'score': 0.06816231459379196},\n",
       " {'label': 'joy', 'score': 0.0479426383972168},\n",
       " {'label': 'neutral', 'score': 0.14038598537445068},\n",
       " {'label': 'sadness', 'score': 0.002122163539752364},\n",
       " {'label': 'surprise', 'score': 0.729602038860321}]"
      ]
     },
     "execution_count": 14,
     "metadata": {},
     "output_type": "execute_result"
    }
   ],
   "source": [
    "predictions[0]"
   ]
  },
  {
   "cell_type": "code",
   "execution_count": 15,
   "metadata": {},
   "outputs": [
    {
     "data": {
      "text/plain": [
       "' Haunted by his grandfather’s presence, John tells of the rift between his grandfather and his father: the elder, an angry visionary who fought for the abolitionist cause, and his son, an ardent pacifist'"
      ]
     },
     "execution_count": 15,
     "metadata": {},
     "output_type": "execute_result"
    }
   ],
   "source": [
    "sentences[3]"
   ]
  },
  {
   "cell_type": "code",
   "execution_count": 16,
   "metadata": {},
   "outputs": [
    {
     "data": {
      "text/plain": [
       "[{'label': 'anger', 'score': 0.03219091519713402},\n",
       " {'label': 'disgust', 'score': 0.008431830443441868},\n",
       " {'label': 'fear', 'score': 0.9281681180000305},\n",
       " {'label': 'joy', 'score': 0.001045584212988615},\n",
       " {'label': 'neutral', 'score': 0.012808694504201412},\n",
       " {'label': 'sadness', 'score': 0.008756881579756737},\n",
       " {'label': 'surprise', 'score': 0.008597923442721367}]"
      ]
     },
     "execution_count": 16,
     "metadata": {},
     "output_type": "execute_result"
    }
   ],
   "source": [
    "predictions[3]"
   ]
  },
  {
   "cell_type": "code",
   "execution_count": 20,
   "metadata": {},
   "outputs": [],
   "source": [
    "import numpy as np\n",
    "\n",
    "emotion_labels = [\"anger\", \"disgust\", \"fear\", \"joy\", \"sadness\", \"surprise\", \"neutral\"]\n",
    "isbns= []\n",
    "emotion_scores = {label: [] for label in emotion_labels}\n",
    "\n",
    "def calculate_max_emotion_scores(predictions):\n",
    "    per_emotion_scores = {label: [] for label in emotion_labels}\n",
    "    for prediction in predictions:\n",
    "        sorted_predictions = sorted(prediction, key = lambda x: x[\"label\"])\n",
    "        for index, label in enumerate(emotion_labels):\n",
    "            per_emotion_scores[label].append(sorted_predictions[index][\"score\"])\n",
    "    return {label: np.max(scores) for label, scores in per_emotion_scores.items()}"
   ]
  },
  {
   "cell_type": "code",
   "execution_count": 21,
   "metadata": {},
   "outputs": [],
   "source": [
    "for i in range(10):\n",
    "    isbns.append(books[\"isbn13\"][i])\n",
    "    sentences = books[\"description\"][i].split(\".\")\n",
    "    predictions = classifier(sentences)\n",
    "    max_scores = calculate_max_emotion_scores(predictions)\n",
    "    for label in emotion_labels:\n",
    "        emotion_scores[label].append(max_scores[label])"
   ]
  },
  {
   "cell_type": "code",
   "execution_count": 22,
   "metadata": {},
   "outputs": [
    {
     "data": {
      "text/plain": [
       "{'anger': [0.0641336515545845,\n",
       "  0.6126194000244141,\n",
       "  0.0641336515545845,\n",
       "  0.3514845371246338,\n",
       "  0.0814124271273613,\n",
       "  0.23222433030605316,\n",
       "  0.5381841063499451,\n",
       "  0.0641336515545845,\n",
       "  0.3006698489189148,\n",
       "  0.0641336515545845],\n",
       " 'disgust': [0.2735915184020996,\n",
       "  0.34828439354896545,\n",
       "  0.10400670766830444,\n",
       "  0.1507224291563034,\n",
       "  0.18449550867080688,\n",
       "  0.7271752953529358,\n",
       "  0.15585480630397797,\n",
       "  0.10400670766830444,\n",
       "  0.27948102355003357,\n",
       "  0.1779264211654663],\n",
       " 'fear': [0.9281681180000305,\n",
       "  0.9425276517868042,\n",
       "  0.9723207950592041,\n",
       "  0.3607056736946106,\n",
       "  0.09504345804452896,\n",
       "  0.05136283487081528,\n",
       "  0.7474274635314941,\n",
       "  0.404496967792511,\n",
       "  0.9155239462852478,\n",
       "  0.05136283487081528],\n",
       " 'joy': [0.9327981472015381,\n",
       "  0.7044221758842468,\n",
       "  0.7672379016876221,\n",
       "  0.25188156962394714,\n",
       "  0.04056442901492119,\n",
       "  0.04337584972381592,\n",
       "  0.8725655674934387,\n",
       "  0.04056442901492119,\n",
       "  0.04056442901492119,\n",
       "  0.04056442901492119],\n",
       " 'sadness': [0.6462159156799316,\n",
       "  0.8879393339157104,\n",
       "  0.549476683139801,\n",
       "  0.7326846718788147,\n",
       "  0.8843895196914673,\n",
       "  0.6213916540145874,\n",
       "  0.7121937274932861,\n",
       "  0.549476683139801,\n",
       "  0.8402892351150513,\n",
       "  0.8603723645210266],\n",
       " 'surprise': [0.9671575427055359,\n",
       "  0.11169018596410751,\n",
       "  0.11169018596410751,\n",
       "  0.11169018596410751,\n",
       "  0.4758802652359009,\n",
       "  0.11169018596410751,\n",
       "  0.408002108335495,\n",
       "  0.8202828764915466,\n",
       "  0.35446202754974365,\n",
       "  0.11169018596410751],\n",
       " 'neutral': [0.729602038860321,\n",
       "  0.2525459825992584,\n",
       "  0.07876548916101456,\n",
       "  0.07876548916101456,\n",
       "  0.07876548916101456,\n",
       "  0.2719036936759949,\n",
       "  0.07876548916101456,\n",
       "  0.2344868928194046,\n",
       "  0.1356135606765747,\n",
       "  0.07876548916101456]}"
      ]
     },
     "execution_count": 22,
     "metadata": {},
     "output_type": "execute_result"
    }
   ],
   "source": [
    "emotion_scores"
   ]
  },
  {
   "cell_type": "code",
   "execution_count": 24,
   "metadata": {},
   "outputs": [
    {
     "name": "stderr",
     "output_type": "stream",
     "text": [
      "100%|██████████| 5197/5197 [11:12<00:00,  7.73it/s]\n"
     ]
    }
   ],
   "source": [
    "from tqdm import tqdm\n",
    "\n",
    "emotion_labels = [\"anger\", \"disgust\", \"fear\", \"joy\", \"sadness\", \"surprise\", \"neutral\"]\n",
    "isbns= []\n",
    "emotion_scores = {label: [] for label in emotion_labels}\n",
    "\n",
    "\n",
    "for i in tqdm(range(len(books))):\n",
    "    isbns.append(books[\"isbn13\"][i])\n",
    "    sentences = books[\"description\"][i].split(\".\")\n",
    "    predictions = classifier(sentences)\n",
    "    max_scores = calculate_max_emotion_scores(predictions)\n",
    "    for label in emotion_labels:\n",
    "        emotion_scores[label].append(max_scores[label])"
   ]
  },
  {
   "cell_type": "code",
   "execution_count": 25,
   "metadata": {},
   "outputs": [],
   "source": [
    "emotions_df = pd.DataFrame(emotion_scores)\n",
    "emotions_df[\"isbn13\"] = isbns"
   ]
  },
  {
   "cell_type": "code",
   "execution_count": 26,
   "metadata": {},
   "outputs": [],
   "source": [
    "books = pd.merge(books, emotions_df, on =\"isbn13\")"
   ]
  },
  {
   "cell_type": "code",
   "execution_count": 28,
   "metadata": {},
   "outputs": [],
   "source": [
    "books.to_csv(\"../data/books_with_emotions.csv\", index = False)"
   ]
  }
 ],
 "metadata": {
  "kernelspec": {
   "display_name": "venv",
   "language": "python",
   "name": "python3"
  },
  "language_info": {
   "codemirror_mode": {
    "name": "ipython",
    "version": 3
   },
   "file_extension": ".py",
   "mimetype": "text/x-python",
   "name": "python",
   "nbconvert_exporter": "python",
   "pygments_lexer": "ipython3",
   "version": "3.12.3"
  }
 },
 "nbformat": 4,
 "nbformat_minor": 2
}
